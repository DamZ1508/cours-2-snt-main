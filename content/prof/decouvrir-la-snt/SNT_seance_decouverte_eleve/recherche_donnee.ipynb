{
 "cells": [
  {
   "cell_type": "markdown",
   "metadata": {},
   "source": [
    "# Une recherche de donnée avec `Python`\n",
    "\n",
    "<div class = \"alert alert-warning\">\n",
    "\n",
    "On se fixe uniquement comme objectif d'illustrer qu'un outil informatique de recherche dans une base données est essentiel...\n",
    "\n",
    "</div>\n",
    "\n",
    "<div class = \"alert alert-info\">\n",
    "\n",
    "**A FAIRE :**\n",
    "    \n",
    "Vous avez uniquement à exécuter la cellule de code ci-dessous et à suivre les instructions.\n",
    "</div>\n",
    "\n",
    "<div class = \"alert alert-danger\">\n",
    "    \n",
    "- Utiliser le bouton $\\blacktriangleright$ dans la barre de fonctions ;\n",
    "\n",
    "**OU**    \n",
    "\n",
    "- Utiliser le raccourci clavier `SHIFT + ENTREE` ou `CTRL + ENTREE`.\n",
    "    \n",
    "</div>"
   ]
  },
  {
   "cell_type": "code",
   "execution_count": null,
   "metadata": {},
   "outputs": [],
   "source": [
    "#caractère séparateur du csv -peut être une virgule, un point-virgule ou une tabulation noté \\t\n",
    "sep = \";\"\n",
    "\n",
    "#nombre de lignes d'entete\n",
    "entete = 1\n",
    "\n",
    "with open(\"base_donnees.csv\",\"r\",encoding='utf-8') as f :\n",
    "    data = f.readlines() #on lit toutes les lignes et on met ça dans une liste -un élément par ligne-\n",
    "\n",
    "data = data[entete :] #on supprime les lignes d'en-tête qui ne nous intéressent pas\n",
    "\n",
    "tableau=[]\n",
    "for ligne in data:\n",
    "    ligne = ligne.replace(\",\" , \".\") #change les virgules en point => format numérique différent sur python\n",
    "    ligne = ligne.strip().split(sep) #on sépare les différents élément en utilisant le caractère séparateur défini\n",
    "    tableau.append(ligne)\n",
    "    \n",
    "# Fonction de recherche\n",
    "def recherche(tab, v) :\n",
    "    for i in range(len(tab)) :\n",
    "        if tab[i][2] == v :\n",
    "            return tab[i]"
   ]
  },
  {
   "cell_type": "markdown",
   "metadata": {},
   "source": [
    "<div class = \"alert alert-info\">\n",
    "\n",
    "**A FAIRE :**\n",
    "    \n",
    "1. Compléter l'instruction ci-dessous qui va vous permettre de trouver les informations de la commune de **SURIN**.\n",
    "    \n",
    "2. Exécuter le code de la cellule une fois complété.\n",
    "</div>"
   ]
  },
  {
   "cell_type": "code",
   "execution_count": null,
   "metadata": {},
   "outputs": [],
   "source": [
    "# Recherche de la commune de Surin\n",
    "\n",
    "recherche(tableau, \"...\")"
   ]
  }
 ],
 "metadata": {
  "kernelspec": {
   "display_name": "Python 3",
   "language": "python",
   "name": "python3"
  },
  "language_info": {
   "codemirror_mode": {
    "name": "ipython",
    "version": 3
   },
   "file_extension": ".py",
   "mimetype": "text/x-python",
   "name": "python",
   "nbconvert_exporter": "python",
   "pygments_lexer": "ipython3",
   "version": "3.7.1"
  }
 },
 "nbformat": 4,
 "nbformat_minor": 4
}
