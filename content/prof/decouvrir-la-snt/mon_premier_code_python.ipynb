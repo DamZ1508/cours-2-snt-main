{
 "cells": [
  {
   "cell_type": "markdown",
   "metadata": {},
   "source": [
    "# Mon premier Notebook\n",
    "\n",
    "## Premières manipulations\n",
    "\n",
    "<div class = \"alert alert-warning\">\n",
    "\n",
    "Voici à quoi ça ressemble...\n",
    "\n",
    "</div>\n",
    "\n",
    "<div class = \"alert alert-info\">\n",
    "\n",
    "Des cellules de texte pour vous indiquer les consignes...\n",
    "</div>\n",
    "\n",
    "<div class = \"alert alert-danger\">\n",
    "    \n",
    "Mais aussi des cellules de code en `Python` que vous pouvez **exécuter**. Deux solutions pour exécutez une cellule de code :\n",
    "    \n",
    "- Utiliser le bouton $\\blacktriangleright |$ dans la barre de fonctions ;\n",
    "\n",
    "- Utiliser le raccourci clavier `SHIFT + ENTREE` ou `CTRL + ENTREE`.\n",
    "    \n",
    "</div>\n",
    "\n",
    "<div class = \"alert alert-danger\">\n",
    "    \n",
    "**/!\\ : Pensez aussi à sauvegarder régulièrement $\\rightarrow$ bouton *disquette* !**\n",
    "    \n",
    "</div>"
   ]
  },
  {
   "cell_type": "code",
   "execution_count": null,
   "metadata": {},
   "outputs": [],
   "source": [
    "# Une cellule de code à exécuter\n",
    "\n",
    "print(\"Hello World !\")"
   ]
  },
  {
   "cell_type": "code",
   "execution_count": null,
   "metadata": {},
   "outputs": [],
   "source": [
    "# Et quand il y a une erreur dans le code...\n",
    "\n",
    "print(a)"
   ]
  },
  {
   "cell_type": "markdown",
   "metadata": {},
   "source": [
    "## Le premier programme\n",
    "\n",
    "<div class = \"alert alert-info\">\n",
    "    \n",
    "**A FAIRE :**\n",
    "    \n",
    "Exécutez la cellule de code ci-dessous et agissez suivant les consignes.\n",
    "    \n",
    "</div>"
   ]
  },
  {
   "cell_type": "code",
   "execution_count": null,
   "metadata": {},
   "outputs": [],
   "source": [
    "# Liste des mois de l'année\n",
    "\n",
    "Mois = [('janvier',31), ('février',28), ('mars',31), ('avril',30), ('mai',31), ('juin',30), \n",
    "        ('juillet',31), ('aout',31), ('septembre',30), ('octobre',31), ('novembre',30), ('décembre',31)]\n",
    "\n",
    "# Fonction Bissextile\n",
    "def bissextile(annee) :\n",
    "    \"\"\"Verifie si l'année est bissextile\"\"\"\n",
    "    return (annee%4==0) and ((annee%400==0) or (annee%100!=0))\n",
    "\n",
    "# Fonction nbJours\n",
    "def nbJours(annee, mois, jours) :\n",
    "    \"\"\"Calcul du nombre de jours écoulés depuis le 1er janvier de l'an 0\"\"\"\n",
    "    a = annee * 365 # on compte les jours avec 365 jours par an\n",
    "    bis = annee//4 - annee//100 + annee//400 # On compte les années bissextiles pour ajouter les 29 février\n",
    "    if mois <= 2 and bissextile(annee) : # si la date considérée est sur une année bissextile mais en janvier ou février\n",
    "        bis = bis - 1 # on ne rajoute pas le 29 février\n",
    "    m = 0 # total des jours écoulés jusqu'au mois dans la date\n",
    "    c = 0 # compteur\n",
    "    while c < mois-1 : # pour compter tous les mois complets\n",
    "        m = m + Mois[c][1] # on ajoute le nombre de jours du mois considéré\n",
    "        c = c + 1\n",
    "    return jour + m + a + bis  # on renvoie le nombre de jours écoulés\n",
    "\n",
    "# Fonction mystere : mais que fait-elle ?\n",
    "def mystere(annee, mois, jours) :\n",
    "    from datetime import date\n",
    "    today = date.today()\n",
    "    return nbJours(today.year, today.month, today.day) - nbJours(annee, mois, jours)\n",
    "\n",
    "annee = int(input(\"Entrez votre année de naissance (AAAA): \"))\n",
    "mois = int(input(\"Entrez votre mois de naissance (MM): \"))\n",
    "jour = int(input(\"Entrez votre jour de naissance (JJ): \"))\n",
    "\n",
    "print(mystere(annee, mois, jour))"
   ]
  }
 ],
 "metadata": {
  "kernelspec": {
   "display_name": "Python 3",
   "language": "python",
   "name": "python3"
  },
  "language_info": {
   "codemirror_mode": {
    "name": "ipython",
    "version": 3
   },
   "file_extension": ".py",
   "mimetype": "text/x-python",
   "name": "python",
   "nbconvert_exporter": "python",
   "pygments_lexer": "ipython3",
   "version": "3.7.1"
  }
 },
 "nbformat": 4,
 "nbformat_minor": 4
}
